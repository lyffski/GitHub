{
 "cells": [
  {
   "cell_type": "markdown",
   "metadata": {},
   "source": [
    "# Clustering\n",
    "---\n",
    "## K-means algorithm\n",
    "<img src=\"pic\\k-means_algo.png\"><br>\n",
    "<img src=\"pic\\k-means_algo_opt.png\">\n",
    "<br><br>\n",
    "\n",
    "### K-means  Optimization Objective\n",
    "$c^{(i)}$ = index of cluster (1,2,...,K) to which example $x^{(i)}$ is currently assigned<br>\n",
    "$\\mu_k$ = cluster centroid $k$ ($\\mu_k \\in \\mathbb{R}^n$); where K is set of centroids and $k \\in \\{1,2,...,k\\}$<br>\n",
    "$\\mu_c^{(i)}$ = cluster centroid of cluster to which example $x^{(i)}$ has been assigend <br>\n",
    "(e.g: $x^{(i)} \\rightarrow 5 \\therefore c^{(i)}=5 \\therefore \\mu_c^{(i)} = \\mu_5$<br>\n",
    "##### Optimization objective:\n",
    "$$J(c^{(1)},...,c^{(m)}, \\mu_1,...,.\\mu_k) = \\frac{1}{m}\\sum_\\limits{i=1}^m \\color{red}{||x^{(i)}-\\mu_c^{(i)}||^2}$$\n",
    "$$\\binom{min}{c^{(1)},...,c^{(m)},\\mu_1,...,\\mu_K} J(c^{(1)},...,c^{(m)}, \\mu_1,...,\\mu_K$$<br>\n",
    "__NOTE:__ the cost function is also called __Distortion__ <br> where red is the distance between the given $x^{(i)}$ and $\\mu_5$ centroid<br>\n",
    "<br>\n",
    "\n",
    "### Random Initializaiton\n",
    "##### Way of Approach:\n",
    "You should have K < $m$<br>\n",
    "Randomly pick K training examples.\n",
    "Set $\\mu_1,...,\\mu_K$ equal to these K examples.\n",
    "__NOTE:__ it is __NOT a Convex__ problem\n",
    "<br><br>\n",
    "##### Algorithm:\n",
    "for i = 1 to 100{ <br>\n",
    "\\t randomly initialize K-means\n",
    "\\t run k-means. get $c^{(1)},...,c^{(m)}, \\mu_1,...,\\mu_K$<br>\n",
    "\\t compute cost function (distortion)<br>\n",
    "\\t \\t $J(c^{(1)},...,c^{(m)}, \\mu_1,...,\\mu_K)$<br>\n",
    "} Pick clustering that gave lowest cost $J(c^{(1)},...,c^{(m)}, \\mu_1,...,\\mu_K$)\n",
    "<br><br>\n",
    "\n",
    "#### Choosing the value of K\n",
    "Sometimes, you are running K-means to get cluster to use for some later/downstream purpose.<br>\n",
    "Evaluate K-means based on a metric for how well it preforms for that later purpose.<br>\n",
    "Furthermore, __Elbow Method__ is one possibility, yet __generally it is never really clear__,<br> so you have to __choose visually__\n",
    "<br>\n",
    "<img src=\"pic\\K-means_ex.png\">"
   ]
  },
  {
   "cell_type": "code",
   "execution_count": null,
   "metadata": {},
   "outputs": [],
   "source": [
    "$$\n",
    "k_k\n",
    "$$"
   ]
  }
 ],
 "metadata": {
  "kernelspec": {
   "display_name": "Python 3 (ipykernel)",
   "language": "python",
   "name": "python3"
  },
  "language_info": {
   "codemirror_mode": {
    "name": "ipython",
    "version": 3
   },
   "file_extension": ".py",
   "mimetype": "text/x-python",
   "name": "python",
   "nbconvert_exporter": "python",
   "pygments_lexer": "ipython3",
   "version": "3.9.15"
  }
 },
 "nbformat": 4,
 "nbformat_minor": 4
}
